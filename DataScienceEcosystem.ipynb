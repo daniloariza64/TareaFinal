{
 "cells": [
  {
   "cell_type": "markdown",
   "id": "ad04f6f0-978a-4dbd-9948-60419cf27025",
   "metadata": {},
   "source": [
    "Data Science Tools and Ecosystem"
   ]
  },
  {
   "cell_type": "markdown",
   "id": "01b2d628-ed0e-4b1f-b50e-1d398966a28e",
   "metadata": {},
   "source": [
    "En este cuaderno, se resumen las herramientas y ecosistemas de ciencia de datos."
   ]
  },
  {
   "cell_type": "markdown",
   "id": "4ca248a0-c9a5-4644-a708-8d7b27dab642",
   "metadata": {},
   "source": [
    "**Objetivo.**\n",
    "- Describir componentes del conjunto de herramientas de un científico de datos y enumerar varias categorías de herramientas.\n",
    "- Enumerar ejemplos de herramientas de código abierto utilizadas en la ciencia de datos.\n",
    "- Describir las características relevantes de las herramientas de código abierto.\n",
    "- Enumerar ejemplos de herramientas de ciencia de datos comerciales y basadas en la nube.\n"
   ]
  },
  {
   "cell_type": "markdown",
   "id": "90d3d716-a53f-497a-aa5f-618df0cb4a13",
   "metadata": {},
   "source": [
    "Algunos de los lenguajes populares que utilizan los científicos de datos son:\n",
    "1. Python.\n",
    "2. Julia.\n",
    "3. R."
   ]
  },
  {
   "attachments": {},
   "cell_type": "markdown",
   "id": "8915d6e7-bfa4-4676-9a3d-0acb34c0cc96",
   "metadata": {},
   "source": [
    "Algunas de las bibliotecas comúnmente utilizadas por los científicos de datos incluyen:\n",
    "1. matplotlib\n",
    "2. NumPy\n",
    "3. Seaborn."
   ]
  },
  {
   "cell_type": "markdown",
   "id": "541760ff-d6cd-4a04-ac06-8324a38f3be3",
   "metadata": {},
   "source": [
    "| Herramientas de Ciencia de Datos |                 \n",
    "| ----------------- | \n",
    "| Python | \n",
    "| Visual Studio | \n",
    "| R Studio | "
   ]
  },
  {
   "cell_type": "markdown",
   "id": "21572753-2111-478a-b125-0db39f6ebee0",
   "metadata": {},
   "source": [
    "### A continuación, se presentan algunos ejemplos de evaluación de expresiones aritméticas en Python."
   ]
  },
  {
   "cell_type": "code",
   "execution_count": 3,
   "id": "a3d80113-f016-4643-a4d3-8b87800f1681",
   "metadata": {},
   "outputs": [
    {
     "data": {
      "text/plain": [
       "17"
      ]
     },
     "execution_count": 3,
     "metadata": {},
     "output_type": "execute_result"
    }
   ],
   "source": [
    "#A continuación se presenta una operación combinada de suma y producto\n",
    "(3*4)+5"
   ]
  },
  {
   "cell_type": "code",
   "execution_count": 4,
   "id": "728c0d6e-d43e-497f-adf2-c2e9a97639f7",
   "metadata": {},
   "outputs": [
    {
     "name": "stdout",
     "output_type": "stream",
     "text": [
      "3.3333333333333335\n"
     ]
    }
   ],
   "source": [
    "#Esto convertirá 200 minutos a horas dividiendo por 60.\n",
    "minutos=200\n",
    "horas=minutos/60\n",
    "print(horas)"
   ]
  },
  {
   "cell_type": "markdown",
   "id": "0ae78445-b2ea-4703-8ae8-59403583a750",
   "metadata": {},
   "source": [
    "## Autor\n",
    "Danilo de Jesús Ariza Agámez"
   ]
  }
 ],
 "metadata": {
  "kernelspec": {
   "display_name": "Python 3 (ipykernel)",
   "language": "python",
   "name": "python3"
  },
  "language_info": {
   "codemirror_mode": {
    "name": "ipython",
    "version": 3
   },
   "file_extension": ".py",
   "mimetype": "text/x-python",
   "name": "python",
   "nbconvert_exporter": "python",
   "pygments_lexer": "ipython3",
   "version": "3.12.8"
  }
 },
 "nbformat": 4,
 "nbformat_minor": 5
}
